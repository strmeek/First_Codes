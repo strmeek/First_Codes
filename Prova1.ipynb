{
  "nbformat": 4,
  "nbformat_minor": 0,
  "metadata": {
    "colab": {
      "name": "Prova1.ipynb",
      "provenance": [],
      "collapsed_sections": [],
      "authorship_tag": "ABX9TyOeqWm5DpDnOvjKuRvHWBpD"
    },
    "kernelspec": {
      "name": "python3",
      "display_name": "Python 3"
    },
    "language_info": {
      "name": "python"
    }
  },
  "cells": [
    {
      "cell_type": "code",
      "execution_count": null,
      "metadata": {
        "id": "s0Qt_Rk1FZvq"
      },
      "outputs": [],
      "source": [
        "#problema 1\n",
        "a = 200\n",
        "s = 0\n",
        "while a < 1200:\n",
        "  s = s + a\n",
        "  a = a + 2\n",
        "print(s)"
      ]
    },
    {
      "cell_type": "code",
      "source": [
        "#problema 2\n",
        "\n",
        "import random as rd\n",
        "\n",
        "lista = []\n",
        "for i in range(12):\n",
        "  x = rd.randint(1,100)\n",
        "  lista.append(x)\n",
        "lista.sort()\n",
        "lim_inf = lista[4]\n",
        "lim_sup = lista[-4]\n",
        "\n",
        "def interval(lista):\n",
        "  sub_lista = []\n",
        "  for i in range(len(lista)):\n",
        "    if lim_inf <= lista[i] <= lim_sup:\n",
        "      sub_lista.append(lista[i])\n",
        "  return sub_lista\n",
        "\n",
        "intervalo = interval(lista)\n",
        "print(intervalo)"
      ],
      "metadata": {
        "id": "gYVktnF6GbG4"
      },
      "execution_count": null,
      "outputs": []
    },
    {
      "cell_type": "code",
      "source": [
        "#problema 3\n",
        "m = 700\n",
        "count = 0\n",
        "while m > 0.05:\n",
        "  m = m/2\n",
        "  count = count + 1\n",
        "\n",
        "print(count * 50)"
      ],
      "metadata": {
        "id": "Df72gczfHcTm"
      },
      "execution_count": null,
      "outputs": []
    },
    {
      "cell_type": "code",
      "source": [
        "#problema 4\n",
        "####Corrida de Kart\n",
        "####Funcionalidades:\n",
        "#Nomes:\n",
        "def name(line):\n",
        "  names = []\n",
        "  for k in range(line):\n",
        "    pilot = str(input(\"Nome do piloto %d:  \" %(k + 1)))\n",
        "    names.append(pilot)\n",
        "  return names\n",
        "\n",
        "#Tempos dos corredores:\n",
        "import random as rd\n",
        "\n",
        "def laps(column):\n",
        "  matrix = [0] * line\n",
        "  for j in range(line):\n",
        "    times = []\n",
        "    for i in range(column):\n",
        "      lap = rd.randint(120,180)\n",
        "      times.append(lap)\n",
        "    matrix[j] = times\n",
        "  return matrix\n",
        "\n",
        "####Organização:\n",
        "line = int(input(\"Número de pilotos: \"))\n",
        "column = int(input(\"Número de voltas da corrida: \"))\n",
        "\n",
        "nomes = name(line)\n",
        "matriz = laps(column)\n",
        "\n",
        "#Todos os resultados:\n",
        "\n",
        "ordem = []\n",
        "for l in range(line):\n",
        "  media = sum(matriz[l])/len(matriz[l])\n",
        "  ordem.append(media)\n",
        "  matriz[l].append(nomes[l])\n",
        "  matriz[l].append(media)\n",
        "\n",
        "ordem.sort()\n",
        "\n",
        "def order(n):\n",
        "  for k in range(line):\n",
        "    if matriz[k][-1] == ordem[n]:\n",
        "      print(matriz[k])\n",
        "  return \n",
        "\n",
        "n = 0\n",
        "while n < line:\n",
        "  order(n)\n",
        "  n = n + 1"
      ],
      "metadata": {
        "id": "PocynyVMIApn"
      },
      "execution_count": null,
      "outputs": []
    },
    {
      "cell_type": "code",
      "source": [
        "#problema 5\n",
        "\n",
        "import random as rd\n",
        "\n",
        "lista = []\n",
        "for i in range(20):\n",
        "  x = rd.randint(-2,2)\n",
        "  lista.append(x)\n",
        "\n",
        "def binary(lista):\n",
        "  for i in range(len(lista)):\n",
        "    if lista[i] < 0:\n",
        "      lista[i] = 0\n",
        "    elif lista[i] > 0:\n",
        "      lista[i] = 1\n",
        "  return lista\n",
        "\n",
        "sublist = binary(lista)\n",
        "print(sublist)"
      ],
      "metadata": {
        "id": "tq-v6C2GNgaQ"
      },
      "execution_count": null,
      "outputs": []
    }
  ]
}